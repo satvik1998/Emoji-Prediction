{
 "cells": [
  {
   "cell_type": "code",
   "execution_count": 1,
   "metadata": {},
   "outputs": [
    {
     "name": "stdout",
     "output_type": "stream",
     "text": [
      "Collecting emoji"
     ]
    },
    {
     "name": "stderr",
     "output_type": "stream",
     "text": [
      "WARNING: You are using pip version 20.1; however, version 20.1.1 is available.\n",
      "You should consider upgrading via the 'c:\\python\\python38\\python.exe -m pip install --upgrade pip' command.\n"
     ]
    },
    {
     "name": "stdout",
     "output_type": "stream",
     "text": [
      "\n",
      "  Downloading emoji-0.5.4.tar.gz (43 kB)\n",
      "Building wheels for collected packages: emoji\n",
      "  Building wheel for emoji (setup.py): started\n",
      "  Building wheel for emoji (setup.py): finished with status 'done'\n",
      "  Created wheel for emoji: filename=emoji-0.5.4-py3-none-any.whl size=42179 sha256=44795b90efe0ee81a2b4805c6c36f2b89d5d0f2e271efb919eab4ca350f0c458\n",
      "  Stored in directory: c:\\users\\91768\\appdata\\local\\pip\\cache\\wheels\\22\\d2\\67\\010d63edb25b9f0e7d5c181a4b77d9bdc9e027eb5562c4cc1d\n",
      "Successfully built emoji\n",
      "Installing collected packages: emoji\n",
      "Successfully installed emoji-0.5.4\n"
     ]
    }
   ],
   "source": [
    "!pip install emoji"
   ]
  },
  {
   "cell_type": "code",
   "execution_count": 2,
   "metadata": {},
   "outputs": [],
   "source": [
    "import emoji"
   ]
  },
  {
   "cell_type": "code",
   "execution_count": 4,
   "metadata": {},
   "outputs": [],
   "source": [
    "#emoji.EMOJI_UNICODE"
   ]
  },
  {
   "cell_type": "code",
   "execution_count": 5,
   "metadata": {},
   "outputs": [],
   "source": [
    "emoji_dictionary = {\"0\": \"\\u2764\\uFE0F\",    # :heart: prints a black instead of red heart depending on the font\n",
    "                    \"1\": \":baseball:\",\n",
    "                    \"2\": \":beaming_face_with_smiling_eyes:\",\n",
    "                    \"3\": \":downcast_face_with_sweat:\",\n",
    "                    \"4\": \":fork_and_knife:\",\n",
    "                    \"5\": \":hundred_points:\",\n",
    "                    \"6\": \":fire:\",\n",
    "                    \"7\": \":face_blowing_a_kiss:\",\n",
    "                    \"8\": \":chestnut:\",\n",
    "                    \"9\": \":flexed_biceps:\"\n",
    "                   }"
   ]
  },
  {
   "cell_type": "code",
   "execution_count": 6,
   "metadata": {},
   "outputs": [
    {
     "name": "stdout",
     "output_type": "stream",
     "text": [
      "❤️\n",
      "⚾\n",
      "😁\n",
      "😓\n",
      "🍴\n",
      "💯\n",
      "🔥\n",
      "😘\n",
      "🌰\n",
      "💪\n"
     ]
    }
   ],
   "source": [
    "for e in emoji_dictionary.values():\n",
    "    print(emoji.emojize(e))"
   ]
  },
  {
   "cell_type": "code",
   "execution_count": 67,
   "metadata": {},
   "outputs": [],
   "source": [
    "import pandas as pd\n",
    "\n",
    "train = pd.read_csv(\"D:/CB Git/machine-learning-online-2018/20. RNN/Emoji Predictor/dataset/train_emoji.csv\", header=None)\n",
    "test = pd.read_csv(\"D:/CB Git/machine-learning-online-2018/20. RNN/Emoji Predictor/dataset/test_emoji.csv\", header=None)"
   ]
  },
  {
   "cell_type": "code",
   "execution_count": 68,
   "metadata": {},
   "outputs": [
    {
     "data": {
      "text/html": [
       "<div>\n",
       "<style scoped>\n",
       "    .dataframe tbody tr th:only-of-type {\n",
       "        vertical-align: middle;\n",
       "    }\n",
       "\n",
       "    .dataframe tbody tr th {\n",
       "        vertical-align: top;\n",
       "    }\n",
       "\n",
       "    .dataframe thead th {\n",
       "        text-align: right;\n",
       "    }\n",
       "</style>\n",
       "<table border=\"1\" class=\"dataframe\">\n",
       "  <thead>\n",
       "    <tr style=\"text-align: right;\">\n",
       "      <th></th>\n",
       "      <th>0</th>\n",
       "      <th>1</th>\n",
       "      <th>2</th>\n",
       "      <th>3</th>\n",
       "    </tr>\n",
       "  </thead>\n",
       "  <tbody>\n",
       "    <tr>\n",
       "      <th>0</th>\n",
       "      <td>never talk to me again</td>\n",
       "      <td>3</td>\n",
       "      <td>NaN</td>\n",
       "      <td>NaN</td>\n",
       "    </tr>\n",
       "    <tr>\n",
       "      <th>1</th>\n",
       "      <td>I am proud of your achievements</td>\n",
       "      <td>2</td>\n",
       "      <td>NaN</td>\n",
       "      <td>NaN</td>\n",
       "    </tr>\n",
       "    <tr>\n",
       "      <th>2</th>\n",
       "      <td>It is the worst day in my life</td>\n",
       "      <td>3</td>\n",
       "      <td>NaN</td>\n",
       "      <td>NaN</td>\n",
       "    </tr>\n",
       "    <tr>\n",
       "      <th>3</th>\n",
       "      <td>Miss you so much</td>\n",
       "      <td>0</td>\n",
       "      <td>NaN</td>\n",
       "      <td>[0]</td>\n",
       "    </tr>\n",
       "    <tr>\n",
       "      <th>4</th>\n",
       "      <td>food is life</td>\n",
       "      <td>4</td>\n",
       "      <td>NaN</td>\n",
       "      <td>NaN</td>\n",
       "    </tr>\n",
       "  </tbody>\n",
       "</table>\n",
       "</div>"
      ],
      "text/plain": [
       "                                 0  1   2     3\n",
       "0           never talk to me again  3 NaN   NaN\n",
       "1  I am proud of your achievements  2 NaN   NaN\n",
       "2   It is the worst day in my life  3 NaN   NaN\n",
       "3                 Miss you so much  0 NaN   [0]\n",
       "4                     food is life  4 NaN   NaN"
      ]
     },
     "execution_count": 68,
     "metadata": {},
     "output_type": "execute_result"
    }
   ],
   "source": [
    "train.head()"
   ]
  },
  {
   "cell_type": "code",
   "execution_count": 69,
   "metadata": {},
   "outputs": [],
   "source": [
    "X_train = train[0]\n",
    "Y_train = train[1]\n",
    "\n",
    "X_test = test[0]\n",
    "Y_test = test[1]"
   ]
  },
  {
   "cell_type": "code",
   "execution_count": 70,
   "metadata": {},
   "outputs": [
    {
     "name": "stdout",
     "output_type": "stream",
     "text": [
      "never talk to me again 😓\n",
      "I am proud of your achievements 😁\n",
      "It is the worst day in my life 😓\n",
      "Miss you so much ❤️\n",
      "food is life 🍴\n",
      "I love you mum ❤️\n",
      "Stop saying bullshit 😓\n",
      "congratulations on your acceptance 😁\n",
      "The assignment is too long  😓\n",
      "I want to go play ⚾\n"
     ]
    }
   ],
   "source": [
    "# printing sentences along with emojis\n",
    "for i in range(10):\n",
    "    print(X_train[i],emoji.emojize(emoji_dictionary[str(Y_train[i])]))"
   ]
  },
  {
   "cell_type": "markdown",
   "metadata": {},
   "source": [
    "## __Converting Sentences into Embeddings__"
   ]
  },
  {
   "cell_type": "code",
   "execution_count": 71,
   "metadata": {},
   "outputs": [],
   "source": [
    "f = open(\"./Transfer Learning using NLP/glove.6B.50d.txt\", encoding='utf8')"
   ]
  },
  {
   "cell_type": "code",
   "execution_count": 72,
   "metadata": {},
   "outputs": [],
   "source": [
    "import numpy as np\n",
    "embedding_index = {}\n",
    "\n",
    "for line in f:\n",
    "    values = line.split()\n",
    "    word = values[0]\n",
    "    coefs = np.asarray(values[1:], dtype='float')\n",
    "    embedding_index[word] = coefs\n",
    "    \n",
    "f.close()"
   ]
  },
  {
   "cell_type": "code",
   "execution_count": 73,
   "metadata": {},
   "outputs": [
    {
     "name": "stdout",
     "output_type": "stream",
     "text": [
      "400000\n"
     ]
    }
   ],
   "source": [
    "print(len(embedding_index))"
   ]
  },
  {
   "cell_type": "markdown",
   "metadata": {},
   "source": [
    "## **Converting Sentence into vectors**"
   ]
  },
  {
   "cell_type": "code",
   "execution_count": 74,
   "metadata": {},
   "outputs": [
    {
     "name": "stdout",
     "output_type": "stream",
     "text": [
      "50\n"
     ]
    }
   ],
   "source": [
    "emd_dim = embedding_index['eat'].shape[0]\n",
    "print(emd_dim)"
   ]
  },
  {
   "cell_type": "code",
   "execution_count": 75,
   "metadata": {},
   "outputs": [],
   "source": [
    "def embeddingOut(X):\n",
    "    maxlen = 10\n",
    "    embedding_out = np.zeros((X.shape[0],maxlen,emd_dim))\n",
    "    \n",
    "    for ix in range(X.shape[0]):\n",
    "        X[ix] = X[ix].split()\n",
    "        \n",
    "        for jx in range(len(X[ix])):\n",
    "            try:\n",
    "                embedding_out[ix][jx] = embedding_index[X[ix][jx].lower()]\n",
    "            except:\n",
    "                embedding_out[ix][jx] = np.zeros((50,))\n",
    "    return embedding_out"
   ]
  },
  {
   "cell_type": "code",
   "execution_count": 52,
   "metadata": {},
   "outputs": [
    {
     "name": "stderr",
     "output_type": "stream",
     "text": [
      "<ipython-input-52-1ff9df3ea8f3>:2: SettingWithCopyWarning: \n",
      "A value is trying to be set on a copy of a slice from a DataFrame\n",
      "\n",
      "See the caveats in the documentation: https://pandas.pydata.org/pandas-docs/stable/user_guide/indexing.html#returning-a-view-versus-a-copy\n",
      "  X_train[i] = str(X_train[i])\n"
     ]
    }
   ],
   "source": [
    "#for i in range(X_train.shape[0]):\n",
    "    #X_train[i] = str(X_train[i])"
   ]
  },
  {
   "cell_type": "code",
   "execution_count": 76,
   "metadata": {},
   "outputs": [
    {
     "name": "stderr",
     "output_type": "stream",
     "text": [
      "<ipython-input-75-f782d6e218ac>:6: SettingWithCopyWarning: \n",
      "A value is trying to be set on a copy of a slice from a DataFrame\n",
      "\n",
      "See the caveats in the documentation: https://pandas.pydata.org/pandas-docs/stable/user_guide/indexing.html#returning-a-view-versus-a-copy\n",
      "  X[ix] = X[ix].split()\n"
     ]
    }
   ],
   "source": [
    "emb_X_train = embeddingOut(X_train)\n",
    "emb_X_test = embeddingOut(X_test)"
   ]
  },
  {
   "cell_type": "code",
   "execution_count": 77,
   "metadata": {},
   "outputs": [
    {
     "name": "stdout",
     "output_type": "stream",
     "text": [
      "['never', 'talk', 'to', 'me', 'again']\n"
     ]
    }
   ],
   "source": [
    "print(X_train[0])"
   ]
  },
  {
   "cell_type": "code",
   "execution_count": 78,
   "metadata": {},
   "outputs": [
    {
     "name": "stdout",
     "output_type": "stream",
     "text": [
      "(132, 10, 50)\n",
      "(56, 10, 50)\n"
     ]
    }
   ],
   "source": [
    "print(emb_X_train.shape)\n",
    "print(emb_X_test.shape)"
   ]
  },
  {
   "cell_type": "code",
   "execution_count": 79,
   "metadata": {},
   "outputs": [
    {
     "name": "stdout",
     "output_type": "stream",
     "text": [
      "(132,)\n"
     ]
    }
   ],
   "source": [
    "print(Y_train.shape)"
   ]
  },
  {
   "cell_type": "code",
   "execution_count": 80,
   "metadata": {},
   "outputs": [],
   "source": [
    "from keras.utils import np_utils\n",
    "\n",
    "Y_train = np_utils.to_categorical(Y_train, num_classes=5)\n",
    "Y_test = np_utils.to_categorical(Y_test, num_classes=5)"
   ]
  },
  {
   "cell_type": "code",
   "execution_count": 81,
   "metadata": {},
   "outputs": [
    {
     "name": "stdout",
     "output_type": "stream",
     "text": [
      "(132, 5)\n"
     ]
    }
   ],
   "source": [
    "print(Y_train.shape)"
   ]
  },
  {
   "cell_type": "code",
   "execution_count": null,
   "metadata": {},
   "outputs": [],
   "source": []
  },
  {
   "cell_type": "code",
   "execution_count": null,
   "metadata": {},
   "outputs": [],
   "source": []
  },
  {
   "cell_type": "markdown",
   "metadata": {},
   "source": [
    "## **LSTM Implementation**"
   ]
  },
  {
   "cell_type": "code",
   "execution_count": 64,
   "metadata": {},
   "outputs": [],
   "source": [
    "from keras.layers import *\n",
    "from keras.models import Sequential"
   ]
  },
  {
   "cell_type": "code",
   "execution_count": 92,
   "metadata": {},
   "outputs": [
    {
     "name": "stdout",
     "output_type": "stream",
     "text": [
      "Model: \"sequential_3\"\n",
      "_________________________________________________________________\n",
      "Layer (type)                 Output Shape              Param #   \n",
      "=================================================================\n",
      "lstm_5 (LSTM)                (None, 10, 64)            29440     \n",
      "_________________________________________________________________\n",
      "dropout_5 (Dropout)          (None, 10, 64)            0         \n",
      "_________________________________________________________________\n",
      "lstm_6 (LSTM)                (None, 64)                33024     \n",
      "_________________________________________________________________\n",
      "dropout_6 (Dropout)          (None, 64)                0         \n",
      "_________________________________________________________________\n",
      "dense_3 (Dense)              (None, 5)                 325       \n",
      "_________________________________________________________________\n",
      "activation_3 (Activation)    (None, 5)                 0         \n",
      "=================================================================\n",
      "Total params: 62,789\n",
      "Trainable params: 62,789\n",
      "Non-trainable params: 0\n",
      "_________________________________________________________________\n"
     ]
    }
   ],
   "source": [
    "model = Sequential()\n",
    "model.add(LSTM(64,input_shape=(10,50),return_sequences=True))\n",
    "model.add(Dropout(0.5))\n",
    "model.add(LSTM(64,return_sequences=False))\n",
    "model.add(Dropout(0.5))\n",
    "model.add(Dense(5))\n",
    "model.add(Activation('softmax'))\n",
    "model.compile(loss='categorical_crossentropy',optimizer ='adam',metrics=['accuracy'])\n",
    "model.summary()"
   ]
  },
  {
   "cell_type": "code",
   "execution_count": 98,
   "metadata": {},
   "outputs": [
    {
     "name": "stdout",
     "output_type": "stream",
     "text": [
      "Train on 105 samples, validate on 27 samples\n",
      "Epoch 1/150\n",
      "105/105 [==============================] - 0s 427us/step - loss: 0.0144 - accuracy: 1.0000 - val_loss: 1.9378 - val_accuracy: 0.6667\n",
      "Epoch 2/150\n",
      "105/105 [==============================] - 0s 418us/step - loss: 0.0075 - accuracy: 1.0000 - val_loss: 1.9522 - val_accuracy: 0.6667\n",
      "Epoch 3/150\n",
      "105/105 [==============================] - 0s 408us/step - loss: 0.0042 - accuracy: 1.0000 - val_loss: 1.9632 - val_accuracy: 0.6667\n",
      "Epoch 4/150\n",
      "105/105 [==============================] - 0s 437us/step - loss: 0.0036 - accuracy: 1.0000 - val_loss: 1.9698 - val_accuracy: 0.6296\n",
      "Epoch 5/150\n",
      "105/105 [==============================] - 0s 418us/step - loss: 0.0056 - accuracy: 1.0000 - val_loss: 1.9766 - val_accuracy: 0.6296\n",
      "Epoch 6/150\n",
      "105/105 [==============================] - 0s 494us/step - loss: 0.0104 - accuracy: 1.0000 - val_loss: 2.0169 - val_accuracy: 0.6667\n",
      "Epoch 7/150\n",
      "105/105 [==============================] - 0s 418us/step - loss: 0.0057 - accuracy: 1.0000 - val_loss: 2.0520 - val_accuracy: 0.6667\n",
      "Epoch 8/150\n",
      "105/105 [==============================] - 0s 399us/step - loss: 0.0049 - accuracy: 1.0000 - val_loss: 2.0809 - val_accuracy: 0.6667\n",
      "Epoch 9/150\n",
      "105/105 [==============================] - 0s 541us/step - loss: 0.0048 - accuracy: 1.0000 - val_loss: 2.1073 - val_accuracy: 0.6667\n",
      "Epoch 10/150\n",
      "105/105 [==============================] - 0s 370us/step - loss: 0.0043 - accuracy: 1.0000 - val_loss: 2.1339 - val_accuracy: 0.6667\n",
      "Epoch 11/150\n",
      "105/105 [==============================] - 0s 446us/step - loss: 0.0056 - accuracy: 1.0000 - val_loss: 2.1549 - val_accuracy: 0.6667\n",
      "Epoch 12/150\n",
      "105/105 [==============================] - 0s 427us/step - loss: 0.0037 - accuracy: 1.0000 - val_loss: 2.1708 - val_accuracy: 0.6667\n",
      "Epoch 13/150\n",
      "105/105 [==============================] - 0s 465us/step - loss: 0.0037 - accuracy: 1.0000 - val_loss: 2.1850 - val_accuracy: 0.6667\n",
      "Epoch 14/150\n",
      "105/105 [==============================] - 0s 456us/step - loss: 0.0058 - accuracy: 1.0000 - val_loss: 2.1969 - val_accuracy: 0.6667\n",
      "Epoch 15/150\n",
      "105/105 [==============================] - 0s 399us/step - loss: 0.0065 - accuracy: 1.0000 - val_loss: 2.2062 - val_accuracy: 0.6667\n",
      "Epoch 16/150\n",
      "105/105 [==============================] - 0s 503us/step - loss: 0.0081 - accuracy: 1.0000 - val_loss: 2.2132 - val_accuracy: 0.6667\n",
      "Epoch 17/150\n",
      "105/105 [==============================] - 0s 427us/step - loss: 0.0071 - accuracy: 1.0000 - val_loss: 2.2217 - val_accuracy: 0.6667\n",
      "Epoch 18/150\n",
      "105/105 [==============================] - 0s 560us/step - loss: 0.0052 - accuracy: 1.0000 - val_loss: 2.2318 - val_accuracy: 0.6667\n",
      "Epoch 19/150\n",
      "105/105 [==============================] - 0s 465us/step - loss: 0.0087 - accuracy: 1.0000 - val_loss: 2.2403 - val_accuracy: 0.6667\n",
      "Epoch 20/150\n",
      "105/105 [==============================] - 0s 446us/step - loss: 0.0045 - accuracy: 1.0000 - val_loss: 2.2443 - val_accuracy: 0.6667\n",
      "Epoch 21/150\n",
      "105/105 [==============================] - 0s 456us/step - loss: 0.0037 - accuracy: 1.0000 - val_loss: 2.2494 - val_accuracy: 0.6667\n",
      "Epoch 22/150\n",
      "105/105 [==============================] - 0s 864us/step - loss: 0.0094 - accuracy: 1.0000 - val_loss: 2.2052 - val_accuracy: 0.6667\n",
      "Epoch 23/150\n",
      "105/105 [==============================] - 0s 551us/step - loss: 0.0051 - accuracy: 1.0000 - val_loss: 2.1140 - val_accuracy: 0.6667\n",
      "Epoch 24/150\n",
      "105/105 [==============================] - 0s 475us/step - loss: 0.0037 - accuracy: 1.0000 - val_loss: 2.0566 - val_accuracy: 0.6296\n",
      "Epoch 25/150\n",
      "105/105 [==============================] - 0s 475us/step - loss: 0.0036 - accuracy: 1.0000 - val_loss: 2.0362 - val_accuracy: 0.6296\n",
      "Epoch 26/150\n",
      "105/105 [==============================] - 0s 418us/step - loss: 0.0086 - accuracy: 1.0000 - val_loss: 2.0312 - val_accuracy: 0.6296\n",
      "Epoch 27/150\n",
      "105/105 [==============================] - 0s 513us/step - loss: 0.0031 - accuracy: 1.0000 - val_loss: 2.0254 - val_accuracy: 0.6296\n",
      "Epoch 28/150\n",
      "105/105 [==============================] - 0s 484us/step - loss: 0.0041 - accuracy: 1.0000 - val_loss: 2.0192 - val_accuracy: 0.6296\n",
      "Epoch 29/150\n",
      "105/105 [==============================] - 0s 418us/step - loss: 0.0048 - accuracy: 1.0000 - val_loss: 2.0128 - val_accuracy: 0.6296\n",
      "Epoch 30/150\n",
      "105/105 [==============================] - 0s 485us/step - loss: 0.0034 - accuracy: 1.0000 - val_loss: 2.0072 - val_accuracy: 0.6296\n",
      "Epoch 31/150\n",
      "105/105 [==============================] - 0s 494us/step - loss: 0.0040 - accuracy: 1.0000 - val_loss: 2.0023 - val_accuracy: 0.6296\n",
      "Epoch 32/150\n",
      "105/105 [==============================] - 0s 560us/step - loss: 0.0036 - accuracy: 1.0000 - val_loss: 2.0010 - val_accuracy: 0.6296\n",
      "Epoch 33/150\n",
      "105/105 [==============================] - 0s 494us/step - loss: 0.0076 - accuracy: 1.0000 - val_loss: 2.0139 - val_accuracy: 0.6296\n",
      "Epoch 34/150\n",
      "105/105 [==============================] - 0s 494us/step - loss: 0.0058 - accuracy: 1.0000 - val_loss: 2.0328 - val_accuracy: 0.6667\n",
      "Epoch 35/150\n",
      "105/105 [==============================] - 0s 475us/step - loss: 0.0030 - accuracy: 1.0000 - val_loss: 2.0545 - val_accuracy: 0.6667\n",
      "Epoch 36/150\n",
      "105/105 [==============================] - 0s 503us/step - loss: 0.0044 - accuracy: 1.0000 - val_loss: 2.0764 - val_accuracy: 0.6667\n",
      "Epoch 37/150\n",
      "105/105 [==============================] - 0s 522us/step - loss: 0.0034 - accuracy: 1.0000 - val_loss: 2.0968 - val_accuracy: 0.6667\n",
      "Epoch 38/150\n",
      "105/105 [==============================] - 0s 484us/step - loss: 0.0037 - accuracy: 1.0000 - val_loss: 2.1155 - val_accuracy: 0.6667\n",
      "Epoch 39/150\n",
      "105/105 [==============================] - 0s 446us/step - loss: 0.0031 - accuracy: 1.0000 - val_loss: 2.1337 - val_accuracy: 0.6667\n",
      "Epoch 40/150\n",
      "105/105 [==============================] - 0s 446us/step - loss: 0.0029 - accuracy: 1.0000 - val_loss: 2.1513 - val_accuracy: 0.6667\n",
      "Epoch 41/150\n",
      "105/105 [==============================] - 0s 456us/step - loss: 0.0027 - accuracy: 1.0000 - val_loss: 2.1683 - val_accuracy: 0.6667\n",
      "Epoch 42/150\n",
      "105/105 [==============================] - 0s 513us/step - loss: 0.0048 - accuracy: 1.0000 - val_loss: 2.1807 - val_accuracy: 0.6667\n",
      "Epoch 43/150\n",
      "105/105 [==============================] - 0s 427us/step - loss: 0.0028 - accuracy: 1.0000 - val_loss: 2.1916 - val_accuracy: 0.6667\n",
      "Epoch 44/150\n",
      "105/105 [==============================] - 0s 532us/step - loss: 0.0037 - accuracy: 1.0000 - val_loss: 2.1990 - val_accuracy: 0.6667\n",
      "Epoch 45/150\n",
      "105/105 [==============================] - 0s 532us/step - loss: 0.0030 - accuracy: 1.0000 - val_loss: 2.2070 - val_accuracy: 0.6667\n",
      "Epoch 46/150\n",
      "105/105 [==============================] - 0s 437us/step - loss: 0.0047 - accuracy: 1.0000 - val_loss: 2.2125 - val_accuracy: 0.6667\n",
      "Epoch 47/150\n",
      "105/105 [==============================] - 0s 456us/step - loss: 0.0033 - accuracy: 1.0000 - val_loss: 2.2166 - val_accuracy: 0.6667\n",
      "Epoch 48/150\n",
      "105/105 [==============================] - 0s 446us/step - loss: 0.0045 - accuracy: 1.0000 - val_loss: 2.2153 - val_accuracy: 0.6667\n",
      "Epoch 49/150\n",
      "105/105 [==============================] - 0s 399us/step - loss: 0.0028 - accuracy: 1.0000 - val_loss: 2.2136 - val_accuracy: 0.6667\n",
      "Epoch 50/150\n",
      "105/105 [==============================] - 0s 456us/step - loss: 0.0040 - accuracy: 1.0000 - val_loss: 2.2136 - val_accuracy: 0.6667\n",
      "Epoch 51/150\n",
      "105/105 [==============================] - 0s 494us/step - loss: 0.0027 - accuracy: 1.0000 - val_loss: 2.2142 - val_accuracy: 0.6667\n",
      "Epoch 52/150\n",
      "105/105 [==============================] - 0s 589us/step - loss: 0.0033 - accuracy: 1.0000 - val_loss: 2.2127 - val_accuracy: 0.6667\n",
      "Epoch 53/150\n",
      "105/105 [==============================] - 0s 513us/step - loss: 0.0037 - accuracy: 1.0000 - val_loss: 2.2120 - val_accuracy: 0.6667\n",
      "Epoch 54/150\n",
      "105/105 [==============================] - 0s 503us/step - loss: 0.0028 - accuracy: 1.0000 - val_loss: 2.2151 - val_accuracy: 0.6667\n",
      "Epoch 55/150\n",
      "105/105 [==============================] - 0s 589us/step - loss: 0.0037 - accuracy: 1.0000 - val_loss: 2.2193 - val_accuracy: 0.6667\n",
      "Epoch 56/150\n",
      "105/105 [==============================] - 0s 408us/step - loss: 0.0025 - accuracy: 1.0000 - val_loss: 2.2234 - val_accuracy: 0.6667\n"
     ]
    },
    {
     "name": "stdout",
     "output_type": "stream",
     "text": [
      "Epoch 57/150\n",
      "105/105 [==============================] - 0s 389us/step - loss: 0.0030 - accuracy: 1.0000 - val_loss: 2.2276 - val_accuracy: 0.6667\n",
      "Epoch 58/150\n",
      "105/105 [==============================] - 0s 446us/step - loss: 0.0035 - accuracy: 1.0000 - val_loss: 2.2303 - val_accuracy: 0.6667\n",
      "Epoch 59/150\n",
      "105/105 [==============================] - 0s 437us/step - loss: 0.0036 - accuracy: 1.0000 - val_loss: 2.2344 - val_accuracy: 0.6667\n",
      "Epoch 60/150\n",
      "105/105 [==============================] - 0s 399us/step - loss: 0.0024 - accuracy: 1.0000 - val_loss: 2.2419 - val_accuracy: 0.6667\n",
      "Epoch 61/150\n",
      "105/105 [==============================] - 0s 456us/step - loss: 0.0023 - accuracy: 1.0000 - val_loss: 2.2504 - val_accuracy: 0.6667\n",
      "Epoch 62/150\n",
      "105/105 [==============================] - 0s 418us/step - loss: 0.0039 - accuracy: 1.0000 - val_loss: 2.2629 - val_accuracy: 0.6667\n",
      "Epoch 63/150\n",
      "105/105 [==============================] - 0s 437us/step - loss: 0.0025 - accuracy: 1.0000 - val_loss: 2.2756 - val_accuracy: 0.6667\n",
      "Epoch 64/150\n",
      "105/105 [==============================] - 0s 427us/step - loss: 0.0038 - accuracy: 1.0000 - val_loss: 2.2873 - val_accuracy: 0.6667\n",
      "Epoch 65/150\n",
      "105/105 [==============================] - 0s 427us/step - loss: 0.0032 - accuracy: 1.0000 - val_loss: 2.2984 - val_accuracy: 0.6667\n",
      "Epoch 66/150\n",
      "105/105 [==============================] - 0s 560us/step - loss: 0.0017 - accuracy: 1.0000 - val_loss: 2.3063 - val_accuracy: 0.6667\n",
      "Epoch 67/150\n",
      "105/105 [==============================] - 0s 437us/step - loss: 0.0038 - accuracy: 1.0000 - val_loss: 2.3137 - val_accuracy: 0.6667\n",
      "Epoch 68/150\n",
      "105/105 [==============================] - 0s 427us/step - loss: 0.0032 - accuracy: 1.0000 - val_loss: 2.3185 - val_accuracy: 0.6667\n",
      "Epoch 69/150\n",
      "105/105 [==============================] - 0s 418us/step - loss: 0.0027 - accuracy: 1.0000 - val_loss: 2.3241 - val_accuracy: 0.6667\n",
      "Epoch 70/150\n",
      "105/105 [==============================] - 0s 399us/step - loss: 0.0025 - accuracy: 1.0000 - val_loss: 2.3307 - val_accuracy: 0.6667\n",
      "Epoch 71/150\n",
      "105/105 [==============================] - 0s 399us/step - loss: 0.0022 - accuracy: 1.0000 - val_loss: 2.3364 - val_accuracy: 0.6667\n",
      "Epoch 72/150\n",
      "105/105 [==============================] - 0s 437us/step - loss: 0.0023 - accuracy: 1.0000 - val_loss: 2.3418 - val_accuracy: 0.6667\n",
      "Epoch 73/150\n",
      "105/105 [==============================] - 0s 446us/step - loss: 0.0057 - accuracy: 1.0000 - val_loss: 2.3549 - val_accuracy: 0.6667\n",
      "Epoch 74/150\n",
      "105/105 [==============================] - 0s 446us/step - loss: 0.0051 - accuracy: 1.0000 - val_loss: 2.3680 - val_accuracy: 0.6667\n",
      "Epoch 75/150\n",
      "105/105 [==============================] - 0s 427us/step - loss: 0.0023 - accuracy: 1.0000 - val_loss: 2.3784 - val_accuracy: 0.6667\n",
      "Epoch 76/150\n",
      "105/105 [==============================] - 0s 456us/step - loss: 0.0039 - accuracy: 1.0000 - val_loss: 2.3866 - val_accuracy: 0.6667\n",
      "Epoch 77/150\n",
      "105/105 [==============================] - 0s 446us/step - loss: 0.0016 - accuracy: 1.0000 - val_loss: 2.3921 - val_accuracy: 0.6667\n",
      "Epoch 78/150\n",
      "105/105 [==============================] - 0s 408us/step - loss: 0.0027 - accuracy: 1.0000 - val_loss: 2.3959 - val_accuracy: 0.6667\n",
      "Epoch 79/150\n",
      "105/105 [==============================] - 0s 456us/step - loss: 0.0027 - accuracy: 1.0000 - val_loss: 2.4002 - val_accuracy: 0.6667\n",
      "Epoch 80/150\n",
      "105/105 [==============================] - 0s 456us/step - loss: 0.0030 - accuracy: 1.0000 - val_loss: 2.4034 - val_accuracy: 0.6667\n",
      "Epoch 81/150\n",
      "105/105 [==============================] - 0s 408us/step - loss: 0.0035 - accuracy: 1.0000 - val_loss: 2.4107 - val_accuracy: 0.6667\n",
      "Epoch 82/150\n",
      "105/105 [==============================] - 0s 446us/step - loss: 0.0039 - accuracy: 1.0000 - val_loss: 2.4177 - val_accuracy: 0.6667\n",
      "Epoch 83/150\n",
      "105/105 [==============================] - 0s 427us/step - loss: 0.0029 - accuracy: 1.0000 - val_loss: 2.4205 - val_accuracy: 0.6667\n",
      "Epoch 84/150\n",
      "105/105 [==============================] - 0s 522us/step - loss: 0.0029 - accuracy: 1.0000 - val_loss: 2.4216 - val_accuracy: 0.6667\n",
      "Epoch 85/150\n",
      "105/105 [==============================] - 0s 399us/step - loss: 0.0025 - accuracy: 1.0000 - val_loss: 2.4174 - val_accuracy: 0.6667\n",
      "Epoch 86/150\n",
      "105/105 [==============================] - 0s 446us/step - loss: 0.0023 - accuracy: 1.0000 - val_loss: 2.4083 - val_accuracy: 0.6667\n",
      "Epoch 87/150\n",
      "105/105 [==============================] - 0s 446us/step - loss: 0.0013 - accuracy: 1.0000 - val_loss: 2.4004 - val_accuracy: 0.6667\n",
      "Epoch 88/150\n",
      "105/105 [==============================] - 0s 380us/step - loss: 0.0033 - accuracy: 1.0000 - val_loss: 2.3919 - val_accuracy: 0.6667\n",
      "Epoch 89/150\n",
      "105/105 [==============================] - 0s 418us/step - loss: 0.0036 - accuracy: 1.0000 - val_loss: 2.3819 - val_accuracy: 0.6667\n",
      "Epoch 90/150\n",
      "105/105 [==============================] - 0s 408us/step - loss: 0.0020 - accuracy: 1.0000 - val_loss: 2.3732 - val_accuracy: 0.6667\n",
      "Epoch 91/150\n",
      "105/105 [==============================] - 0s 427us/step - loss: 0.0020 - accuracy: 1.0000 - val_loss: 2.3657 - val_accuracy: 0.6667\n",
      "Epoch 92/150\n",
      "105/105 [==============================] - 0s 399us/step - loss: 0.0025 - accuracy: 1.0000 - val_loss: 2.3618 - val_accuracy: 0.6667\n",
      "Epoch 93/150\n",
      "105/105 [==============================] - 0s 522us/step - loss: 0.0040 - accuracy: 1.0000 - val_loss: 2.4074 - val_accuracy: 0.6667\n",
      "Epoch 94/150\n",
      "105/105 [==============================] - 0s 427us/step - loss: 0.0025 - accuracy: 1.0000 - val_loss: 2.4768 - val_accuracy: 0.6667\n",
      "Epoch 95/150\n",
      "105/105 [==============================] - 0s 408us/step - loss: 0.0022 - accuracy: 1.0000 - val_loss: 2.5186 - val_accuracy: 0.6667\n",
      "Epoch 96/150\n",
      "105/105 [==============================] - 0s 427us/step - loss: 0.0040 - accuracy: 1.0000 - val_loss: 2.5447 - val_accuracy: 0.6667\n",
      "Epoch 97/150\n",
      "105/105 [==============================] - 0s 427us/step - loss: 0.0035 - accuracy: 1.0000 - val_loss: 2.5664 - val_accuracy: 0.6667\n",
      "Epoch 98/150\n",
      "105/105 [==============================] - 0s 475us/step - loss: 0.0023 - accuracy: 1.0000 - val_loss: 2.5797 - val_accuracy: 0.6667\n",
      "Epoch 99/150\n",
      "105/105 [==============================] - 0s 427us/step - loss: 0.0096 - accuracy: 1.0000 - val_loss: 2.4284 - val_accuracy: 0.6667\n",
      "Epoch 100/150\n",
      "105/105 [==============================] - 0s 446us/step - loss: 0.0046 - accuracy: 1.0000 - val_loss: 2.2345 - val_accuracy: 0.6667\n",
      "Epoch 101/150\n",
      "105/105 [==============================] - 0s 427us/step - loss: 0.0018 - accuracy: 1.0000 - val_loss: 2.1539 - val_accuracy: 0.6296\n",
      "Epoch 102/150\n",
      "105/105 [==============================] - 0s 427us/step - loss: 0.0083 - accuracy: 1.0000 - val_loss: 2.2285 - val_accuracy: 0.6667\n",
      "Epoch 103/150\n",
      "105/105 [==============================] - 0s 418us/step - loss: 0.0022 - accuracy: 1.0000 - val_loss: 2.2791 - val_accuracy: 0.6667\n",
      "Epoch 104/150\n",
      "105/105 [==============================] - 0s 513us/step - loss: 0.0021 - accuracy: 1.0000 - val_loss: 2.2970 - val_accuracy: 0.6667\n",
      "Epoch 105/150\n",
      "105/105 [==============================] - 0s 399us/step - loss: 0.0022 - accuracy: 1.0000 - val_loss: 2.2926 - val_accuracy: 0.6667\n",
      "Epoch 106/150\n",
      "105/105 [==============================] - 0s 503us/step - loss: 0.0024 - accuracy: 1.0000 - val_loss: 2.2819 - val_accuracy: 0.6667\n",
      "Epoch 107/150\n",
      "105/105 [==============================] - 0s 503us/step - loss: 0.0020 - accuracy: 1.0000 - val_loss: 2.2745 - val_accuracy: 0.6667\n",
      "Epoch 108/150\n",
      "105/105 [==============================] - 0s 446us/step - loss: 0.0028 - accuracy: 1.0000 - val_loss: 2.2699 - val_accuracy: 0.6667\n",
      "Epoch 109/150\n",
      "105/105 [==============================] - 0s 437us/step - loss: 0.0026 - accuracy: 1.0000 - val_loss: 2.2688 - val_accuracy: 0.6667\n",
      "Epoch 110/150\n",
      "105/105 [==============================] - 0s 427us/step - loss: 0.0017 - accuracy: 1.0000 - val_loss: 2.2717 - val_accuracy: 0.6296\n",
      "Epoch 111/150\n",
      "105/105 [==============================] - 0s 408us/step - loss: 0.0017 - accuracy: 1.0000 - val_loss: 2.2757 - val_accuracy: 0.6296\n",
      "Epoch 112/150\n",
      "105/105 [==============================] - 0s 418us/step - loss: 0.0026 - accuracy: 1.0000 - val_loss: 2.2861 - val_accuracy: 0.6296\n",
      "Epoch 113/150\n"
     ]
    },
    {
     "name": "stdout",
     "output_type": "stream",
     "text": [
      "105/105 [==============================] - 0s 456us/step - loss: 0.0022 - accuracy: 1.0000 - val_loss: 2.2965 - val_accuracy: 0.6296\n",
      "Epoch 114/150\n",
      "105/105 [==============================] - 0s 446us/step - loss: 0.0021 - accuracy: 1.0000 - val_loss: 2.3072 - val_accuracy: 0.6296\n",
      "Epoch 115/150\n",
      "105/105 [==============================] - 0s 408us/step - loss: 0.0025 - accuracy: 1.0000 - val_loss: 2.3175 - val_accuracy: 0.6296\n",
      "Epoch 116/150\n",
      "105/105 [==============================] - 0s 399us/step - loss: 0.0023 - accuracy: 1.0000 - val_loss: 2.3278 - val_accuracy: 0.6296\n",
      "Epoch 117/150\n",
      "105/105 [==============================] - 0s 418us/step - loss: 0.0023 - accuracy: 1.0000 - val_loss: 2.3371 - val_accuracy: 0.6296\n",
      "Epoch 118/150\n",
      "105/105 [==============================] - 0s 437us/step - loss: 0.0024 - accuracy: 1.0000 - val_loss: 2.3446 - val_accuracy: 0.6296\n",
      "Epoch 119/150\n",
      "105/105 [==============================] - 0s 456us/step - loss: 0.0014 - accuracy: 1.0000 - val_loss: 2.3512 - val_accuracy: 0.6296\n",
      "Epoch 120/150\n",
      "105/105 [==============================] - 0s 446us/step - loss: 0.0026 - accuracy: 1.0000 - val_loss: 2.3589 - val_accuracy: 0.6296\n",
      "Epoch 121/150\n",
      "105/105 [==============================] - 0s 408us/step - loss: 0.0019 - accuracy: 1.0000 - val_loss: 2.3661 - val_accuracy: 0.6296\n",
      "Epoch 122/150\n",
      "105/105 [==============================] - 0s 465us/step - loss: 0.0030 - accuracy: 1.0000 - val_loss: 2.3715 - val_accuracy: 0.6296\n",
      "Epoch 123/150\n",
      "105/105 [==============================] - 0s 418us/step - loss: 0.0023 - accuracy: 1.0000 - val_loss: 2.3780 - val_accuracy: 0.6296\n",
      "Epoch 124/150\n",
      "105/105 [==============================] - 0s 484us/step - loss: 0.0023 - accuracy: 1.0000 - val_loss: 2.3804 - val_accuracy: 0.6296\n",
      "Epoch 125/150\n",
      "105/105 [==============================] - 0s 418us/step - loss: 0.0029 - accuracy: 1.0000 - val_loss: 2.3787 - val_accuracy: 0.6296\n",
      "Epoch 126/150\n",
      "105/105 [==============================] - 0s 418us/step - loss: 0.0027 - accuracy: 1.0000 - val_loss: 2.3754 - val_accuracy: 0.6296\n",
      "Epoch 127/150\n",
      "105/105 [==============================] - 0s 465us/step - loss: 0.0020 - accuracy: 1.0000 - val_loss: 2.3733 - val_accuracy: 0.6296\n",
      "Epoch 128/150\n",
      "105/105 [==============================] - 0s 418us/step - loss: 0.0014 - accuracy: 1.0000 - val_loss: 2.3728 - val_accuracy: 0.6296\n",
      "Epoch 129/150\n",
      "105/105 [==============================] - 0s 418us/step - loss: 0.0016 - accuracy: 1.0000 - val_loss: 2.3728 - val_accuracy: 0.6296\n",
      "Epoch 130/150\n",
      "105/105 [==============================] - 0s 456us/step - loss: 0.0046 - accuracy: 1.0000 - val_loss: 2.3681 - val_accuracy: 0.6296\n",
      "Epoch 131/150\n",
      "105/105 [==============================] - 0s 418us/step - loss: 0.0035 - accuracy: 1.0000 - val_loss: 2.3642 - val_accuracy: 0.6296\n",
      "Epoch 132/150\n",
      "105/105 [==============================] - 0s 389us/step - loss: 0.0010 - accuracy: 1.0000 - val_loss: 2.3610 - val_accuracy: 0.6296\n",
      "Epoch 133/150\n",
      "105/105 [==============================] - 0s 437us/step - loss: 0.0024 - accuracy: 1.0000 - val_loss: 2.3597 - val_accuracy: 0.6296\n",
      "Epoch 134/150\n",
      "105/105 [==============================] - 0s 418us/step - loss: 0.0019 - accuracy: 1.0000 - val_loss: 2.3592 - val_accuracy: 0.6296\n",
      "Epoch 135/150\n",
      "105/105 [==============================] - 0s 427us/step - loss: 0.0019 - accuracy: 1.0000 - val_loss: 2.3591 - val_accuracy: 0.6296\n",
      "Epoch 136/150\n",
      "105/105 [==============================] - 0s 418us/step - loss: 0.0013 - accuracy: 1.0000 - val_loss: 2.3593 - val_accuracy: 0.6296\n",
      "Epoch 137/150\n",
      "105/105 [==============================] - 0s 446us/step - loss: 0.0021 - accuracy: 1.0000 - val_loss: 2.3616 - val_accuracy: 0.6296\n",
      "Epoch 138/150\n",
      "105/105 [==============================] - 0s 399us/step - loss: 0.0011 - accuracy: 1.0000 - val_loss: 2.3630 - val_accuracy: 0.6296\n",
      "Epoch 139/150\n",
      "105/105 [==============================] - 0s 408us/step - loss: 0.0017 - accuracy: 1.0000 - val_loss: 2.3642 - val_accuracy: 0.6296\n",
      "Epoch 140/150\n",
      "105/105 [==============================] - 0s 399us/step - loss: 0.0031 - accuracy: 1.0000 - val_loss: 2.3663 - val_accuracy: 0.6296\n",
      "Epoch 141/150\n",
      "105/105 [==============================] - 0s 446us/step - loss: 0.0020 - accuracy: 1.0000 - val_loss: 2.3687 - val_accuracy: 0.6296\n",
      "Epoch 142/150\n",
      "105/105 [==============================] - 0s 446us/step - loss: 0.0015 - accuracy: 1.0000 - val_loss: 2.3711 - val_accuracy: 0.6296\n",
      "Epoch 143/150\n",
      "105/105 [==============================] - 0s 418us/step - loss: 0.0016 - accuracy: 1.0000 - val_loss: 2.3736 - val_accuracy: 0.6296\n",
      "Epoch 144/150\n",
      "105/105 [==============================] - 0s 408us/step - loss: 0.0016 - accuracy: 1.0000 - val_loss: 2.3770 - val_accuracy: 0.6296\n",
      "Epoch 145/150\n",
      "105/105 [==============================] - 0s 418us/step - loss: 0.0012 - accuracy: 1.0000 - val_loss: 2.3813 - val_accuracy: 0.6296\n",
      "Epoch 146/150\n",
      "105/105 [==============================] - 0s 465us/step - loss: 0.0014 - accuracy: 1.0000 - val_loss: 2.3851 - val_accuracy: 0.6667\n",
      "Epoch 147/150\n",
      "105/105 [==============================] - 0s 446us/step - loss: 0.0019 - accuracy: 1.0000 - val_loss: 2.3848 - val_accuracy: 0.6667\n",
      "Epoch 148/150\n",
      "105/105 [==============================] - 0s 579us/step - loss: 0.0017 - accuracy: 1.0000 - val_loss: 2.3842 - val_accuracy: 0.6667\n",
      "Epoch 149/150\n",
      "105/105 [==============================] - 0s 446us/step - loss: 0.0012 - accuracy: 1.0000 - val_loss: 2.3841 - val_accuracy: 0.6667\n",
      "Epoch 150/150\n",
      "105/105 [==============================] - 0s 465us/step - loss: 0.0015 - accuracy: 1.0000 - val_loss: 2.3846 - val_accuracy: 0.6667\n"
     ]
    }
   ],
   "source": [
    "from keras.callbacks import EarlyStopping, ModelCheckpoint\n",
    "checkpoint = ModelCheckpoint(\"best_model.h5\",monitor='val_loss',verbose=True,save_best_only=True)\n",
    "earlystop = EarlyStopping(monitor='val_acc',patience=10)\n",
    "\n",
    "hist = model.fit(emb_X_train,Y_train,epochs=150,batch_size=64,shuffle=True,validation_split=0.2)"
   ]
  },
  {
   "cell_type": "code",
   "execution_count": 99,
   "metadata": {},
   "outputs": [],
   "source": [
    "pred = model.predict_classes(emb_X_test)"
   ]
  },
  {
   "cell_type": "code",
   "execution_count": 100,
   "metadata": {},
   "outputs": [
    {
     "name": "stdout",
     "output_type": "stream",
     "text": [
      "[4 3 3 2 2 2 3 2 4 2 1 2 0 3 1 3 2 2 3 2 0 0 4 0 3 3 2 0 0 2 0 1 3 2 0 2 2\n",
      " 4 4 2 1 0 0 1 2 2 2 2 3 1 3 0 3 2 2 3]\n"
     ]
    }
   ],
   "source": [
    "print(pred)"
   ]
  },
  {
   "cell_type": "code",
   "execution_count": 104,
   "metadata": {},
   "outputs": [],
   "source": [
    "#model.load_weights(\"best_model.h5\")"
   ]
  },
  {
   "cell_type": "code",
   "execution_count": 102,
   "metadata": {},
   "outputs": [
    {
     "name": "stdout",
     "output_type": "stream",
     "text": [
      "56/56 [==============================] - 0s 214us/step\n"
     ]
    },
    {
     "data": {
      "text/plain": [
       "[2.854450617517744, 0.625]"
      ]
     },
     "execution_count": 102,
     "metadata": {},
     "output_type": "execute_result"
    }
   ],
   "source": [
    "model.evaluate(emb_X_test,Y_test)"
   ]
  },
  {
   "cell_type": "code",
   "execution_count": 103,
   "metadata": {},
   "outputs": [
    {
     "name": "stdout",
     "output_type": "stream",
     "text": [
      "I want to eat\n",
      "🍴\n",
      "🍴\n",
      "he did not answer\n",
      "😓\n",
      "😓\n",
      "he got a raise\n",
      "😁\n",
      "😓\n",
      "she got me a present\n",
      "❤️\n",
      "😁\n",
      "ha ha ha it was so funny\n",
      "😁\n",
      "😁\n",
      "he is a good friend\n",
      "❤️\n",
      "😁\n",
      "I am upset\n",
      "❤️\n",
      "😓\n",
      "We had such a lovely dinner tonight\n",
      "❤️\n",
      "😁\n",
      "where is the food\n",
      "🍴\n",
      "🍴\n",
      "Stop making this joke ha ha ha\n",
      "😁\n",
      "😁\n",
      "where is the ball\n",
      "⚾\n",
      "⚾\n",
      "work is hard\n",
      "😓\n",
      "😁\n",
      "This girl is messing with me\n",
      "😓\n",
      "❤️\n",
      "are you serious ha ha\n",
      "😁\n",
      "😓\n",
      "Let us go play baseball\n",
      "⚾\n",
      "⚾\n",
      "This stupid grader is not working\n",
      "😓\n",
      "😓\n",
      "work is horrible\n",
      "😓\n",
      "😁\n",
      "Congratulation for having a baby\n",
      "😁\n",
      "😁\n",
      "stop messing around\n",
      "😓\n",
      "😓\n",
      "any suggestions for dinner\n",
      "🍴\n",
      "😁\n",
      "I love taking breaks\n",
      "❤️\n",
      "❤️\n",
      "you brighten my day\n",
      "😁\n",
      "❤️\n",
      "I boiled rice\n",
      "🍴\n",
      "🍴\n",
      "she is a bully\n",
      "😓\n",
      "❤️\n",
      "Why are you feeling bad\n",
      "😓\n",
      "😓\n",
      "I am upset\n",
      "😓\n",
      "😓\n",
      "I worked during my birthday\n",
      "😓\n",
      "😁\n",
      "My grandmother is the love of my life\n",
      "❤️\n",
      "❤️\n",
      "enjoy your break\n",
      "😁\n",
      "❤️\n",
      "valentine day is near\n",
      "❤️\n",
      "😁\n"
     ]
    }
   ],
   "source": [
    "for i in range(30):\n",
    "    print(' '.join(X_test[i]))\n",
    "    print(emoji.emojize(emoji_dictionary[str(np.argmax(Y_test[i]))]))\n",
    "    print(emoji.emojize(emoji_dictionary[str(pred[i])]))"
   ]
  },
  {
   "cell_type": "code",
   "execution_count": null,
   "metadata": {},
   "outputs": [],
   "source": []
  },
  {
   "cell_type": "code",
   "execution_count": null,
   "metadata": {},
   "outputs": [],
   "source": []
  },
  {
   "cell_type": "code",
   "execution_count": null,
   "metadata": {},
   "outputs": [],
   "source": []
  },
  {
   "cell_type": "code",
   "execution_count": null,
   "metadata": {},
   "outputs": [],
   "source": []
  }
 ],
 "metadata": {
  "kernelspec": {
   "display_name": "Python 3",
   "language": "python",
   "name": "python3"
  },
  "language_info": {
   "codemirror_mode": {
    "name": "ipython",
    "version": 3
   },
   "file_extension": ".py",
   "mimetype": "text/x-python",
   "name": "python",
   "nbconvert_exporter": "python",
   "pygments_lexer": "ipython3",
   "version": "3.8.2"
  }
 },
 "nbformat": 4,
 "nbformat_minor": 4
}
